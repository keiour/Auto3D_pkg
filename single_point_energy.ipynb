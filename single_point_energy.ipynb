{
 "cells": [
  {
   "cell_type": "markdown",
   "metadata": {},
   "source": [
    "`Auto3D` is mainly designed for generating low-energy 3D structures from the SMILES. It aslo provides a wrapper function `calc_spe` to do single point energy calculation for existing 3D structures, using `ANI2x`, `AIMNET` or `ANI2xt` as the engine. \n",
    "\n",
    "Single point energy (SPE) calculation **does not** change the input geometry.\n",
    "\n",
    "The source juputer notebook can be downloaded [here](https://github.com/isayevlab/Auto3D_pkg/blob/main/example/single_point_energy.ipynb)"
   ]
  },
  {
   "cell_type": "code",
   "execution_count": 1,
   "metadata": {},
   "outputs": [],
   "source": [
    "import os, sys\n",
    "root = os.path.dirname(os.path.dirname(os.path.abspath(\"__file__\")))\n",
    "sys.path.append(root)\n",
    "\n",
    "import Auto3D\n",
    "from Auto3D.auto3D import options, main"
   ]
  },
  {
   "cell_type": "markdown",
   "metadata": {},
   "source": [
    "# SPE calculation with existing 3D structures"
   ]
  },
  {
   "cell_type": "code",
   "execution_count": 2,
   "metadata": {},
   "outputs": [],
   "source": [
    "from Auto3D.SPE import calc_spe"
   ]
  },
  {
   "cell_type": "code",
   "execution_count": 3,
   "metadata": {},
   "outputs": [
    {
     "name": "stdout",
     "output_type": "stream",
     "text": [
      "Downloading ANI model parameters ...\n",
      "/work/res23/ligands/example/files/RDKIT_ANI2x_smiles/smiles_out_ANI2x_E.sdf\n"
     ]
    }
   ],
   "source": [
    "path = os.path.join(root, \"example/files/RDKIT_ANI2x_smiles/smiles_out.sdf\")\n",
    "spe = calc_spe(path, model_name=\"ANI2x\")\n",
    "print(spe)  #SPE are stored in the SDF file under the E_hartree entry"
   ]
  },
  {
   "cell_type": "code",
   "execution_count": 4,
   "metadata": {},
   "outputs": [
    {
     "name": "stdout",
     "output_type": "stream",
     "text": [
      "Help on function calc_spe in module Auto3D.SPE:\n",
      "\n",
      "calc_spe(path: str, model_name: str, gpu_idx=0)\n",
      "    Calculates single point energy.\n",
      "\n",
      "    :param path: Input sdf file\n",
      "    :type path: str\n",
      "    :param model_name: AIMNET, ANI2x or ANI2xt\n",
      "    :type model_name: str\n",
      "    :param gpu_idx: GPU cuda index, defaults to 0\n",
      "    :type gpu_idx: int, optional\n",
      "\n"
     ]
    }
   ],
   "source": [
    "help(calc_spe)"
   ]
  },
  {
   "cell_type": "code",
   "execution_count": 5,
   "metadata": {},
   "outputs": [],
   "source": [
    "from Auto3D import ASE\n",
    "from ASE import thermo"
   ]
  },
  {
   "cell_type": "code",
   "execution_count": 6,
   "metadata": {},
   "outputs": [],
   "source": [
    "test_structure_1_alist = ['H', 'O', 'H']\n",
    "test_structure_1_xyzlist = [(0.00000, 0.75545, -0.47116), (0.00000, 0.00000, 0.11779), (0.00000, -0.75545, -0.47116)]\n",
    "test_structure_1_chrg = 0\n",
    "test_structure_2_alist = ['H', 'H', 'O']\n",
    "test_structure_2_xyzlist = [(0.00000, -0.75545, -0.47116), (0.00000, 0.75545, -0.47116), (0.00000, 0.00000, 0.11779)]\n",
    "test_structure_2_chrg = 0\n",
    "test_structures_list = [(test_structure_1_alist, test_structure_1_xyzlist, test_structure_1_chrg), \n",
    "                        (test_structure_2_alist, test_structure_2_xyzlist, test_structure_2_chrg)]"
   ]
  },
  {
   "cell_type": "code",
   "execution_count": 7,
   "metadata": {},
   "outputs": [
    {
     "name": "stdout",
     "output_type": "stream",
     "text": [
      "Warning: Running on CPU\n"
     ]
    },
    {
     "name": "stderr",
     "output_type": "stream",
     "text": [
      "  0%|          | 0/2 [00:00<?, ?it/s]"
     ]
    },
    {
     "name": "stdout",
     "output_type": "stream",
     "text": [
      "0\n",
      "optiimize the input geometry\n",
      "      Step     Time          Energy         fmax\n",
      "BFGS:    0 09:40:45    -2081.046937        0.0747\n",
      "BFGS:    1 09:40:46    -2081.047064        0.0568\n",
      "BFGS:    2 09:40:47    -2081.047433        0.0029\n",
      "Failed:  0\n"
     ]
    },
    {
     "name": "stderr",
     "output_type": "stream",
     "text": [
      " 50%|█████     | 1/2 [00:05<00:05,  5.61s/it]"
     ]
    },
    {
     "name": "stdout",
     "output_type": "stream",
     "text": [
      "1\n",
      "optiimize the input geometry\n",
      "      Step     Time          Energy         fmax\n",
      "BFGS:    0 09:40:49    -2081.046937        0.0747\n",
      "BFGS:    1 09:40:50    -2081.047065        0.0568\n",
      "BFGS:    2 09:40:51    -2081.047433        0.0029\n",
      "Failed:  1\n"
     ]
    },
    {
     "name": "stderr",
     "output_type": "stream",
     "text": [
      "100%|██████████| 2/2 [00:09<00:00,  4.58s/it]"
     ]
    },
    {
     "name": "stdout",
     "output_type": "stream",
     "text": [
      "Number of failed thermo calculations:  2\n",
      "Number of successful thermo calculations:  0\n"
     ]
    },
    {
     "name": "stderr",
     "output_type": "stream",
     "text": [
      "\n"
     ]
    },
    {
     "ename": "ArgumentError",
     "evalue": "Python argument types in\n    SDWriter.write(SDWriter, int)\ndid not match C++ signature:\n    write(RDKit::SDWriter {lvalue} self, RDKit::ROMol {lvalue} mol, int confId=-1)",
     "output_type": "error",
     "traceback": [
      "\u001b[0;31m---------------------------------------------------------------------------\u001b[0m",
      "\u001b[0;31mArgumentError\u001b[0m                             Traceback (most recent call last)",
      "\u001b[1;32m/work/res23/ligands/Auto3D_pkg/single_point_energy.ipynb Cell 9\u001b[0m line \u001b[0;36m1\n\u001b[0;32m----> <a href='vscode-notebook-cell:/work/res23/ligands/Auto3D_pkg/single_point_energy.ipynb#X11sZmlsZQ%3D%3D?line=0'>1</a>\u001b[0m thermo\u001b[39m.\u001b[39;49mcalc_thermo_xyz(test_structures_list, \u001b[39m'\u001b[39;49m\u001b[39mAIMNET\u001b[39;49m\u001b[39m'\u001b[39;49m, \u001b[39m'\u001b[39;49m\u001b[39m/work/res23/ligands/Auto3D_pkg/testoutput_AIMNET.sdf\u001b[39;49m\u001b[39m'\u001b[39;49m)\n",
      "File \u001b[0;32m/work/res23/ligands/Auto3D_pkg/Auto3D/ASE/thermo.py:451\u001b[0m, in \u001b[0;36mcalc_thermo_xyz\u001b[0;34m(species_coords_list, model_name, outpath, get_mol_idx_t, gpu_idx, opt_tol, opt_steps)\u001b[0m\n\u001b[1;32m    449\u001b[0m     all_mols \u001b[39m=\u001b[39m out_mols \u001b[39m+\u001b[39m mols_failed\n\u001b[1;32m    450\u001b[0m     \u001b[39mfor\u001b[39;00m mol_idx \u001b[39min\u001b[39;00m all_mols:\n\u001b[0;32m--> 451\u001b[0m         w\u001b[39m.\u001b[39;49mwrite(mol_idx)\n\u001b[1;32m    452\u001b[0m \u001b[39mreturn\u001b[39;00m outpath\n",
      "\u001b[0;31mArgumentError\u001b[0m: Python argument types in\n    SDWriter.write(SDWriter, int)\ndid not match C++ signature:\n    write(RDKit::SDWriter {lvalue} self, RDKit::ROMol {lvalue} mol, int confId=-1)"
     ]
    }
   ],
   "source": [
    "thermo.calc_thermo_xyz(test_structures_list, 'AIMNET', '/work/res23/ligands/Auto3D_pkg/testoutput_AIMNET.sdf')"
   ]
  }
 ],
 "metadata": {
  "kernelspec": {
   "display_name": "py39",
   "language": "python",
   "name": "python3"
  },
  "language_info": {
   "codemirror_mode": {
    "name": "ipython",
    "version": 3
   },
   "file_extension": ".py",
   "mimetype": "text/x-python",
   "name": "python",
   "nbconvert_exporter": "python",
   "pygments_lexer": "ipython3",
   "version": "3.12.2"
  },
  "vscode": {
   "interpreter": {
    "hash": "1b614daab3e5f7b6a193b72cc0b083bb669e7ee1c6a77737086e3d4b842fe95b"
   }
  }
 },
 "nbformat": 4,
 "nbformat_minor": 2
}
